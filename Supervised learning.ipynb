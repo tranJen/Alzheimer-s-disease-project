{
 "cells": [
  {
   "cell_type": "code",
   "execution_count": 17,
   "id": "d26e425d",
   "metadata": {},
   "outputs": [],
   "source": [
    "import pandas as pd\n",
    "import numpy as np\n",
    "from sklearn.model_selection import train_test_split\n",
    "import matplotlib.pyplot as plt\n",
    "from sklearn.preprocessing import StandardScaler\n",
    "from sklearn.svm import OneClassSVM\n",
    "from sklearn.ensemble import RandomForestRegressor\n",
    "from sklearn.linear_model import LinearRegression\n",
    "from sklearn.metrics import mean_squared_error, r2_score, mean_absolute_error\n"
   ]
  },
  {
   "cell_type": "code",
   "execution_count": 2,
   "id": "6ef6d432",
   "metadata": {},
   "outputs": [],
   "source": [
    "df = pd.read_csv('Data/selected_features.csv')"
   ]
  },
  {
   "cell_type": "code",
   "execution_count": 3,
   "id": "027ddeb0",
   "metadata": {},
   "outputs": [
    {
     "data": {
      "text/html": [
       "<div>\n",
       "<style scoped>\n",
       "    .dataframe tbody tr th:only-of-type {\n",
       "        vertical-align: middle;\n",
       "    }\n",
       "\n",
       "    .dataframe tbody tr th {\n",
       "        vertical-align: top;\n",
       "    }\n",
       "\n",
       "    .dataframe thead th {\n",
       "        text-align: right;\n",
       "    }\n",
       "</style>\n",
       "<table border=\"1\" class=\"dataframe\">\n",
       "  <thead>\n",
       "    <tr style=\"text-align: right;\">\n",
       "      <th></th>\n",
       "      <th>NACCID</th>\n",
       "      <th>CDRSUM</th>\n",
       "      <th>DECIN</th>\n",
       "      <th>MOSLOW</th>\n",
       "      <th>MEMORY</th>\n",
       "      <th>SPEECH</th>\n",
       "      <th>BILLS</th>\n",
       "      <th>TRAVEL</th>\n",
       "      <th>MOFALLS</th>\n",
       "      <th>MOTREM</th>\n",
       "      <th>...</th>\n",
       "      <th>TOBAC30</th>\n",
       "      <th>TOBAC100</th>\n",
       "      <th>SMOKYRS</th>\n",
       "      <th>PACKSPER</th>\n",
       "      <th>QUITSMOK</th>\n",
       "      <th>ALCOHOL</th>\n",
       "      <th>DIABETES</th>\n",
       "      <th>HYPERTEN</th>\n",
       "      <th>CVHATT</th>\n",
       "      <th>SEX</th>\n",
       "    </tr>\n",
       "  </thead>\n",
       "  <tbody>\n",
       "    <tr>\n",
       "      <th>0</th>\n",
       "      <td>NACC235922</td>\n",
       "      <td>3.5</td>\n",
       "      <td>1</td>\n",
       "      <td>0</td>\n",
       "      <td>1.0</td>\n",
       "      <td>-4</td>\n",
       "      <td>1</td>\n",
       "      <td>0</td>\n",
       "      <td>0</td>\n",
       "      <td>0</td>\n",
       "      <td>...</td>\n",
       "      <td>0</td>\n",
       "      <td>1</td>\n",
       "      <td>22</td>\n",
       "      <td>2</td>\n",
       "      <td>40</td>\n",
       "      <td>0</td>\n",
       "      <td>0</td>\n",
       "      <td>1</td>\n",
       "      <td>0</td>\n",
       "      <td>2</td>\n",
       "    </tr>\n",
       "    <tr>\n",
       "      <th>1</th>\n",
       "      <td>NACC383757</td>\n",
       "      <td>0.5</td>\n",
       "      <td>8</td>\n",
       "      <td>0</td>\n",
       "      <td>0.5</td>\n",
       "      <td>-4</td>\n",
       "      <td>0</td>\n",
       "      <td>0</td>\n",
       "      <td>0</td>\n",
       "      <td>0</td>\n",
       "      <td>...</td>\n",
       "      <td>0</td>\n",
       "      <td>1</td>\n",
       "      <td>15</td>\n",
       "      <td>5</td>\n",
       "      <td>28</td>\n",
       "      <td>2</td>\n",
       "      <td>0</td>\n",
       "      <td>1</td>\n",
       "      <td>0</td>\n",
       "      <td>1</td>\n",
       "    </tr>\n",
       "    <tr>\n",
       "      <th>2</th>\n",
       "      <td>NACC418253</td>\n",
       "      <td>2.0</td>\n",
       "      <td>1</td>\n",
       "      <td>0</td>\n",
       "      <td>1.0</td>\n",
       "      <td>-4</td>\n",
       "      <td>0</td>\n",
       "      <td>0</td>\n",
       "      <td>0</td>\n",
       "      <td>0</td>\n",
       "      <td>...</td>\n",
       "      <td>0</td>\n",
       "      <td>1</td>\n",
       "      <td>10</td>\n",
       "      <td>2</td>\n",
       "      <td>30</td>\n",
       "      <td>0</td>\n",
       "      <td>0</td>\n",
       "      <td>0</td>\n",
       "      <td>0</td>\n",
       "      <td>2</td>\n",
       "    </tr>\n",
       "    <tr>\n",
       "      <th>3</th>\n",
       "      <td>NACC433163</td>\n",
       "      <td>0.5</td>\n",
       "      <td>1</td>\n",
       "      <td>0</td>\n",
       "      <td>0.5</td>\n",
       "      <td>-4</td>\n",
       "      <td>8</td>\n",
       "      <td>0</td>\n",
       "      <td>0</td>\n",
       "      <td>1</td>\n",
       "      <td>...</td>\n",
       "      <td>0</td>\n",
       "      <td>1</td>\n",
       "      <td>2</td>\n",
       "      <td>2</td>\n",
       "      <td>17</td>\n",
       "      <td>0</td>\n",
       "      <td>0</td>\n",
       "      <td>0</td>\n",
       "      <td>0</td>\n",
       "      <td>1</td>\n",
       "    </tr>\n",
       "    <tr>\n",
       "      <th>4</th>\n",
       "      <td>NACC476187</td>\n",
       "      <td>5.0</td>\n",
       "      <td>1</td>\n",
       "      <td>0</td>\n",
       "      <td>1.0</td>\n",
       "      <td>-4</td>\n",
       "      <td>3</td>\n",
       "      <td>3</td>\n",
       "      <td>0</td>\n",
       "      <td>0</td>\n",
       "      <td>...</td>\n",
       "      <td>0</td>\n",
       "      <td>1</td>\n",
       "      <td>25</td>\n",
       "      <td>2</td>\n",
       "      <td>45</td>\n",
       "      <td>0</td>\n",
       "      <td>0</td>\n",
       "      <td>1</td>\n",
       "      <td>0</td>\n",
       "      <td>1</td>\n",
       "    </tr>\n",
       "  </tbody>\n",
       "</table>\n",
       "<p>5 rows × 22 columns</p>\n",
       "</div>"
      ],
      "text/plain": [
       "       NACCID  CDRSUM  DECIN  MOSLOW  MEMORY  SPEECH  BILLS  TRAVEL  MOFALLS  \\\n",
       "0  NACC235922     3.5      1       0     1.0      -4      1       0        0   \n",
       "1  NACC383757     0.5      8       0     0.5      -4      0       0        0   \n",
       "2  NACC418253     2.0      1       0     1.0      -4      0       0        0   \n",
       "3  NACC433163     0.5      1       0     0.5      -4      8       0        0   \n",
       "4  NACC476187     5.0      1       0     1.0      -4      3       3        0   \n",
       "\n",
       "   MOTREM  ...  TOBAC30  TOBAC100  SMOKYRS  PACKSPER  QUITSMOK  ALCOHOL  \\\n",
       "0       0  ...        0         1       22         2        40        0   \n",
       "1       0  ...        0         1       15         5        28        2   \n",
       "2       0  ...        0         1       10         2        30        0   \n",
       "3       1  ...        0         1        2         2        17        0   \n",
       "4       0  ...        0         1       25         2        45        0   \n",
       "\n",
       "   DIABETES  HYPERTEN  CVHATT  SEX  \n",
       "0         0         1       0    2  \n",
       "1         0         1       0    1  \n",
       "2         0         0       0    2  \n",
       "3         0         0       0    1  \n",
       "4         0         1       0    1  \n",
       "\n",
       "[5 rows x 22 columns]"
      ]
     },
     "execution_count": 3,
     "metadata": {},
     "output_type": "execute_result"
    }
   ],
   "source": [
    "df.head()"
   ]
  },
  {
   "cell_type": "code",
   "execution_count": 5,
   "id": "b46619bc",
   "metadata": {},
   "outputs": [],
   "source": [
    "df = df.drop('NACCID', axis=1)"
   ]
  },
  {
   "cell_type": "markdown",
   "id": "f3d7b2de",
   "metadata": {},
   "source": [
    "**Linear Regression**"
   ]
  },
  {
   "cell_type": "code",
   "execution_count": 7,
   "id": "d5341dfe",
   "metadata": {},
   "outputs": [],
   "source": [
    "#dummy coding categorical variables\n",
    "df_encoded = pd.get_dummies(df, columns=['SEX', 'TOBAC30', 'TOBAC100', 'ALCOHOL', 'DIABETES', 'HYPERTEN', 'CVHATT', 'DECIN', 'MOSLOW', 'MEMORY', 'SPEECH', 'BILLS', 'TRAVEL', 'MOFALLS', 'MOTREM'], drop_first=True)"
   ]
  },
  {
   "cell_type": "code",
   "execution_count": 10,
   "id": "f34a8e4e",
   "metadata": {},
   "outputs": [],
   "source": [
    "y = df_encoded['CDRSUM']\n",
    "X = df_encoded.drop(columns=['CDRSUM'])\n",
    "\n",
    "X_train, X_test, y_train, y_test = train_test_split(X, y, test_size=0.3, random_state=42)\n",
    "\n",
    "# Create a LinearRegression object\n",
    "model = LinearRegression()\n",
    "\n",
    "# Fit the model to the training data\n",
    "model.fit(X_train, y_train)\n",
    "\n",
    "# Once the model is trained, you can make predictions on the test data\n",
    "predictions = model.predict(X_test)"
   ]
  },
  {
   "cell_type": "code",
   "execution_count": 15,
   "id": "a1b057d1",
   "metadata": {},
   "outputs": [
    {
     "name": "stdout",
     "output_type": "stream",
     "text": [
      "model intercept : -0.6478909571391449\n",
      "model coefficients :  [-4.92143018e-03  2.30510592e-03  3.36029315e-03  6.38953729e-03\n",
      " -1.85078725e-03 -6.73891172e-02 -1.52729421e-02  2.42826573e-02\n",
      "  1.06026135e+00  1.23399245e+00  1.15816289e-01  9.00604315e-02\n",
      " -6.68366980e-01  1.43187531e-02  1.19899009e-01 -1.85863447e-01\n",
      " -8.99719864e-03 -2.91861827e-03  2.82636735e-01 -2.49965792e-01\n",
      " -6.44238763e-03 -3.65654584e-01  1.38055139e-01 -1.53682661e-02\n",
      "  6.69278757e-03  3.27659648e-01 -1.22924783e-01  7.62181583e-01\n",
      "  2.78859383e+00  6.68046904e+00  1.19121448e+01  4.43175975e-02\n",
      "  8.49283917e-02  6.50359197e-01  1.62483121e+00  2.99179363e+00\n",
      "  1.79084529e+00 -3.00287251e-02  5.59773103e-02  3.85432470e-01\n",
      "  1.11253406e+00  4.49824516e-01 -4.41892092e-02 -1.12589757e-01\n",
      "  1.26846058e-01  5.44820099e-01  1.60634405e+00  2.33514134e-01\n",
      " -4.69384166e-01  5.79410179e-01  5.29548656e-01 -1.53173162e-01\n",
      " -4.11361988e-01]\n",
      "Mean Squared Error (MSE): 0.7459778745788452\n",
      "R-squared: 0.9130803861566442\n",
      "Mean Absolute Error (MAE): 0.4630486977182269\n"
     ]
    }
   ],
   "source": [
    "print('model intercept :', model.intercept_) \n",
    "print('model coefficients : ', model.coef_) \n",
    "# Calculate Mean Squared Error (MSE)\n",
    "mse = mean_squared_error(y_test, predictions)\n",
    "print(\"Mean Squared Error (MSE):\", mse)\n",
    "\n",
    "# Calculate R-squared\n",
    "r2 = r2_score(y_test, predictions)\n",
    "print(\"R-squared:\", r2)\n",
    "\n",
    "# Calculate Mean Absolute Error (MAE)\n",
    "mae = mean_absolute_error(y_test, predictions)\n",
    "print(\"Mean Absolute Error (MAE):\", mae)"
   ]
  },
  {
   "cell_type": "markdown",
   "id": "2e13f28f",
   "metadata": {},
   "source": [
    "**Random Forest**"
   ]
  },
  {
   "cell_type": "markdown",
   "id": "743398ff",
   "metadata": {},
   "source": [
    "**100 trees**"
   ]
  },
  {
   "cell_type": "code",
   "execution_count": 22,
   "id": "2cdf4eb0",
   "metadata": {},
   "outputs": [],
   "source": [
    "y2 = df['CDRSUM']\n",
    "X2 = df.drop(columns=['CDRSUM'])\n",
    "\n",
    "# Split the data into training and testing sets\n",
    "X_train2, X_test2, y_train2, y_test2 = train_test_split(X2, y2, test_size=0.3, random_state=42)\n",
    "\n",
    "# Create a RandomForestRegressor object\n",
    "model2 = RandomForestRegressor(n_estimators=100, random_state=42)  # You can adjust the number of trees with n_estimators\n",
    "\n",
    "# Fit the model to the training data\n",
    "model2.fit(X_train2, y_train2)\n",
    "\n",
    "# Make predictions on the test data\n",
    "predictions = model2.predict(X_test2)"
   ]
  },
  {
   "cell_type": "code",
   "execution_count": 24,
   "id": "702f746a",
   "metadata": {},
   "outputs": [
    {
     "name": "stdout",
     "output_type": "stream",
     "text": [
      "Mean Squared Error (MSE): 0.422129687119552\n",
      "R-squared: 0.9508144267456152\n",
      "Mean Absolute Error (MAE): 0.2566581446311176\n"
     ]
    }
   ],
   "source": [
    "# Calculate evaluation metrics\n",
    "mse_2 = mean_squared_error(y_test2, predictions)\n",
    "r2_2 = r2_score(y_test2, predictions)\n",
    "mae_2 = mean_absolute_error(y_test2, predictions)\n",
    "print(\"Mean Squared Error (MSE):\", mse_2)\n",
    "print(\"R-squared:\", r2_2)\n",
    "print(\"Mean Absolute Error (MAE):\", mae_2)"
   ]
  },
  {
   "cell_type": "markdown",
   "id": "a6f861ed",
   "metadata": {},
   "source": [
    "**150 trees**"
   ]
  },
  {
   "cell_type": "code",
   "execution_count": 30,
   "id": "4d2a70f4",
   "metadata": {},
   "outputs": [],
   "source": [
    "# Split the data into training and testing sets\n",
    "X_train3, X_test3, y_train3, y_test3 = train_test_split(X2, y2, test_size=0.3, random_state=42)\n",
    "\n",
    "# Create a RandomForestRegressor object\n",
    "model3 = RandomForestRegressor(n_estimators=150, random_state=42)  # You can adjust the number of trees with n_estimators\n",
    "\n",
    "# Fit the model to the training data\n",
    "model3.fit(X_train3, y_train3)\n",
    "\n",
    "# Make predictions on the test data\n",
    "predictions = model3.predict(X_test3)"
   ]
  },
  {
   "cell_type": "code",
   "execution_count": 31,
   "id": "d071956b",
   "metadata": {},
   "outputs": [
    {
     "name": "stdout",
     "output_type": "stream",
     "text": [
      "Mean Squared Error (MSE): 0.42130975840705576\n",
      "R-squared: 0.9509099629397811\n",
      "Mean Absolute Error (MAE): 0.2561967372778184\n"
     ]
    }
   ],
   "source": [
    "# Calculate evaluation metrics\n",
    "mse_3 = mean_squared_error(y_test3, predictions)\n",
    "r2_3 = r2_score(y_test3, predictions)\n",
    "mae_3 = mean_absolute_error(y_test3, predictions)\n",
    "print(\"Mean Squared Error (MSE):\", mse_3)\n",
    "print(\"R-squared:\", r2_3)\n",
    "print(\"Mean Absolute Error (MAE):\", mae_3)"
   ]
  },
  {
   "cell_type": "code",
   "execution_count": null,
   "id": "f2938470",
   "metadata": {},
   "outputs": [],
   "source": []
  }
 ],
 "metadata": {
  "kernelspec": {
   "display_name": "Python 3 (ipykernel)",
   "language": "python",
   "name": "python3"
  },
  "language_info": {
   "codemirror_mode": {
    "name": "ipython",
    "version": 3
   },
   "file_extension": ".py",
   "mimetype": "text/x-python",
   "name": "python",
   "nbconvert_exporter": "python",
   "pygments_lexer": "ipython3",
   "version": "3.9.18"
  }
 },
 "nbformat": 4,
 "nbformat_minor": 5
}
